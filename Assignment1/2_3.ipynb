{
 "cells": [
  {
   "cell_type": "code",
   "execution_count": 63,
   "metadata": {},
   "outputs": [],
   "source": [
    "import numpy as np\n",
    "import matplotlib.pyplot as plt"
   ]
  },
  {
   "cell_type": "code",
   "execution_count": 64,
   "metadata": {},
   "outputs": [],
   "source": [
    "data = np.genfromtxt(\"cm_dataset_2.csv\", delimiter=\",\")\n",
    "n, d = data.shape\n",
    "data = data - np.mean(data, axis=0)\n",
    "max_iter = 100\n",
    "k = 2\n",
    "num_initializations = 1\n",
    "\n",
    "\n",
    "# plt.scatter(data[:, 0], data[:, 1], c='black', label='Data Points')\n",
    "# plt.title('Raw Data Scatter Points')\n",
    "# plt.xlabel('X')\n",
    "# plt.ylabel('Y')"
   ]
  },
  {
   "cell_type": "code",
   "execution_count": 65,
   "metadata": {},
   "outputs": [],
   "source": [
    "def kernel_function(x, y) :\n",
    "    return (np.dot(x,y) + 1) ** 2\n",
    "\n",
    "# K = np.zeros((n,n))\n",
    "\n",
    "# for i in range(n) :\n",
    "#     for j in range(n) :\n",
    "#         K[i,j] = kernel_function(data[i], data[j])"
   ]
  },
  {
   "cell_type": "code",
   "execution_count": 72,
   "metadata": {},
   "outputs": [],
   "source": [
    "def kmeans_kernelized(data, k, max_iter=100, num_initializations=1):\n",
    "    \"\"\"Performs kernelized K-means clustering.\"\"\"\n",
    "    n, d = data.shape\n",
    "\n",
    "    K = np.zeros((n, n))\n",
    "    for i in range(n):\n",
    "        for j in range(n):\n",
    "            K[i, j] = kernel_function(data[i], data[j])\n",
    "\n",
    "    best_score = float(\"inf\")\n",
    "    best_labels = None\n",
    "\n",
    "    for _ in range(num_initializations):\n",
    "        # centroids = data.T[np.random.choice(n, k, replace=False)].T.reshape(k,-1)\n",
    "        centroids = data.T[np.random.choice(n, k, replace=False), :].T\n",
    "        for _ in range(max_iter):\n",
    "            labels = np.argmax(centroids @ K.T, axis=1)\n",
    "            for i in range(k):\n",
    "                assigned_data = data[labels == i]\n",
    "                if len(assigned_data) > 0:  \n",
    "                    centroids[i] = K[labels == i, :].T @ assigned_data / np.sum(K[labels == i])\n",
    "        score = np.sum(\n",
    "            [np.linalg.norm(K[i, labels[i]] - K[i, centroids[j]]) ** 2 for i in range(n) for j in range(k) if labels[i] == j]\n",
    "        )\n",
    "\n",
    "        if score < best_score:\n",
    "            best_score = score\n",
    "            best_labels = labels\n",
    "\n",
    "    return best_labels"
   ]
  },
  {
   "cell_type": "code",
   "execution_count": 73,
   "metadata": {},
   "outputs": [
    {
     "ename": "IndexError",
     "evalue": "index 229 is out of bounds for axis 0 with size 2",
     "output_type": "error",
     "traceback": [
      "\u001b[1;31m---------------------------------------------------------------------------\u001b[0m",
      "\u001b[1;31mIndexError\u001b[0m                                Traceback (most recent call last)",
      "Cell \u001b[1;32mIn[73], line 1\u001b[0m\n\u001b[1;32m----> 1\u001b[0m labels \u001b[38;5;241m=\u001b[39m \u001b[43mkmeans_kernelized\u001b[49m\u001b[43m(\u001b[49m\u001b[43mdata\u001b[49m\u001b[43m,\u001b[49m\u001b[43m \u001b[49m\u001b[43mk\u001b[49m\u001b[43m)\u001b[49m\n\u001b[0;32m      3\u001b[0m \u001b[38;5;66;03m# Visualize (optional)\u001b[39;00m\n\u001b[0;32m      4\u001b[0m plt\u001b[38;5;241m.\u001b[39mscatter(data[:, \u001b[38;5;241m0\u001b[39m], data[:, \u001b[38;5;241m1\u001b[39m], c\u001b[38;5;241m=\u001b[39mlabels)\n",
      "Cell \u001b[1;32mIn[72], line 15\u001b[0m, in \u001b[0;36mkmeans_kernelized\u001b[1;34m(data, k, max_iter, num_initializations)\u001b[0m\n\u001b[0;32m     11\u001b[0m best_labels \u001b[38;5;241m=\u001b[39m \u001b[38;5;28;01mNone\u001b[39;00m\n\u001b[0;32m     13\u001b[0m \u001b[38;5;28;01mfor\u001b[39;00m _ \u001b[38;5;129;01min\u001b[39;00m \u001b[38;5;28mrange\u001b[39m(num_initializations):\n\u001b[0;32m     14\u001b[0m     \u001b[38;5;66;03m# centroids = data.T[np.random.choice(n, k, replace=False)].T.reshape(k,-1)\u001b[39;00m\n\u001b[1;32m---> 15\u001b[0m     centroids \u001b[38;5;241m=\u001b[39m \u001b[43mdata\u001b[49m\u001b[38;5;241;43m.\u001b[39;49m\u001b[43mT\u001b[49m\u001b[43m[\u001b[49m\u001b[43mnp\u001b[49m\u001b[38;5;241;43m.\u001b[39;49m\u001b[43mrandom\u001b[49m\u001b[38;5;241;43m.\u001b[39;49m\u001b[43mchoice\u001b[49m\u001b[43m(\u001b[49m\u001b[43mn\u001b[49m\u001b[43m,\u001b[49m\u001b[43m \u001b[49m\u001b[43mk\u001b[49m\u001b[43m,\u001b[49m\u001b[43m \u001b[49m\u001b[43mreplace\u001b[49m\u001b[38;5;241;43m=\u001b[39;49m\u001b[38;5;28;43;01mFalse\u001b[39;49;00m\u001b[43m)\u001b[49m\u001b[43m,\u001b[49m\u001b[43m \u001b[49m\u001b[43m:\u001b[49m\u001b[43m]\u001b[49m\u001b[38;5;241m.\u001b[39mT\n\u001b[0;32m     16\u001b[0m     \u001b[38;5;28;01mfor\u001b[39;00m _ \u001b[38;5;129;01min\u001b[39;00m \u001b[38;5;28mrange\u001b[39m(max_iter):\n\u001b[0;32m     17\u001b[0m         labels \u001b[38;5;241m=\u001b[39m np\u001b[38;5;241m.\u001b[39margmax(centroids \u001b[38;5;241m@\u001b[39m K\u001b[38;5;241m.\u001b[39mT, axis\u001b[38;5;241m=\u001b[39m\u001b[38;5;241m1\u001b[39m)\n",
      "\u001b[1;31mIndexError\u001b[0m: index 229 is out of bounds for axis 0 with size 2"
     ]
    }
   ],
   "source": [
    "labels = kmeans_kernelized(data, k)\n",
    "\n",
    "# Visualize (optional)\n",
    "plt.scatter(data[:, 0], data[:, 1], c=labels)\n",
    "plt.show()"
   ]
  },
  {
   "cell_type": "code",
   "execution_count": null,
   "metadata": {},
   "outputs": [],
   "source": [
    "for _ in range(num_initializations):\n",
    "    centroids = data[np.random.choice(range(n), k, replace=False)]\n",
    "    og_centroids = centroids\n",
    "    max_iter = 100\n",
    "    for _ in range(max_iter):\n",
    "        distances = np.array([[np.dot(K[i] - K[j], K[i] - K[j]) for j in range(k)] for i in range(n)])\n",
    "        labels = np.argmin(distances, axis=1)\n",
    "        centroids = np.array([np.mean(data[labels == j], axis=0) for j in range(k)])\n",
    "\n",
    "    colors = plt.cm.Spectral(np.linspace(0, 1, k))\n",
    "    for cluster_label, color in zip(range(k), colors):\n",
    "        cluster_points = data[labels == cluster_label]\n",
    "        plt.scatter(cluster_points[:, 0], cluster_points[:, 1], c=[color], marker='o', label=f'Cluster {cluster_label + 1} - Initialization')\n",
    "\n",
    "    plt.scatter(og_centroids[:, 0], og_centroids[:, 1], c='black', marker='o', label='init')\n",
    "    plt.scatter(centroids[:, 0], centroids[:, 1], c='black', marker='*', s=150, label='mu')\n",
    "# Plot styling\n",
    "plt.title('Kernelized K-means Clustering with Different Initializations')\n",
    "plt.xlabel('X')\n",
    "plt.ylabel('Y')\n",
    "# plt.legend()\n",
    "plt.show()"
   ]
  }
 ],
 "metadata": {
  "kernelspec": {
   "display_name": "Python 3",
   "language": "python",
   "name": "python3"
  },
  "language_info": {
   "codemirror_mode": {
    "name": "ipython",
    "version": 3
   },
   "file_extension": ".py",
   "mimetype": "text/x-python",
   "name": "python",
   "nbconvert_exporter": "python",
   "pygments_lexer": "ipython3",
   "version": "3.10.11"
  }
 },
 "nbformat": 4,
 "nbformat_minor": 2
}
